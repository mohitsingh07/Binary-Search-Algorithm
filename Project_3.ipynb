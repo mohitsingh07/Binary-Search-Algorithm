{
 "cells": [
  {
   "cell_type": "code",
   "execution_count": 2,
   "id": "e8b7cc4e",
   "metadata": {},
   "outputs": [
    {
     "name": "stdout",
     "output_type": "stream",
     "text": [
      "1- ADD \n",
      "2- SUBTRACT\n",
      "3- MULTIPLY \n",
      "4- DIVIDE \n",
      "5- HCF\n",
      "6- LCM\n",
      "7- Log(Number, Base)\n",
      "8- Power(Base, Exponent)\n",
      "Chose the opertaion number from above\n",
      "Operation - 8\n",
      "Enter first number: 2\n",
      "Enter second number: 8\n",
      "Output: 256.0\n"
     ]
    }
   ],
   "source": [
    "import math\n",
    "\n",
    "#Operation table to give instruction........\n",
    "\n",
    "print(\"\"\"1- ADD \n",
    "2- SUBTRACT\n",
    "3- MULTIPLY \n",
    "4- DIVIDE \n",
    "5- HCF\n",
    "6- LCM\n",
    "7- Log(Number, Base)\n",
    "8- Power(Base, Exponent)\"\"\")\n",
    "\n",
    "#Functions for different opertaions........\n",
    "\n",
    "print(\"Chose the opertaion number from above\")\n",
    "user_input = int(input(\"Operation - \"))\n",
    "def add(num1 , num2):\n",
    "    return print(f\"Output: {num1+num2}\")\n",
    "def subtract(num1 , num2):\n",
    "    return print(f\"Output: {num1-num2}\")\n",
    "def multiply(num1,num2):\n",
    "    return print(f\"Output: {num1*num2}\")\n",
    "def divide(num1 ,num2):\n",
    "    if num2 == 0:\n",
    "        print(\"cannot divide by 0\")\n",
    "    else:\n",
    "        return print(f\"Output: {float(num1)/float(num2)}\")\n",
    "def HCF(num1 ,num2):\n",
    "    return print(f\"Output: {math.gcd(num1,num2)}\")\n",
    "def LCM(num1,num2):\n",
    "    return print(f\"Output: {math.lcm(num1,num2)}\")\n",
    "def Log(num1,num2):\n",
    "    return print(f\"Output: {math.log(num1,num2)}\")\n",
    "def Power(num1,num2):\n",
    "    return print(f\"Output: {math.pow(num1,num2)}\")\n",
    "\n",
    "#Input for the two numbers which the the user want to calculate.........\n",
    "\n",
    "input1= int(input(\"Enter first number: \"))\n",
    "input2= int(input(\"Enter second number: \"))\n",
    "\n",
    "#conditions for different operations to be performed............\n",
    "\n",
    "if int(user_input) == 1:\n",
    "    add(input1,input2)\n",
    "elif int(user_input) == 2:\n",
    "    subtract(input1,input2)\n",
    "elif int(user_input) == 3:\n",
    "    multiply(input1,input2)\n",
    "elif int(user_input) == 4:\n",
    "    divide(input1,input2)\n",
    "elif int(user_input) == 5:\n",
    "    HCF(input1,input2)\n",
    "elif int(user_input) == 6:\n",
    "    LCM(input1,input2)\n",
    "elif int(user_input) == 7:\n",
    "    Log(input1,input2)\n",
    "elif int(user_input) == 8:\n",
    "    Power(input1,input2)\n",
    "\n"
   ]
  },
  {
   "cell_type": "code",
   "execution_count": null,
   "id": "62ebc312",
   "metadata": {},
   "outputs": [],
   "source": [
    "\n"
   ]
  },
  {
   "cell_type": "code",
   "execution_count": null,
   "id": "458c7d48",
   "metadata": {},
   "outputs": [],
   "source": []
  },
  {
   "cell_type": "code",
   "execution_count": null,
   "id": "af73dfaf",
   "metadata": {},
   "outputs": [],
   "source": []
  }
 ],
 "metadata": {
  "kernelspec": {
   "display_name": "Python 3 (ipykernel)",
   "language": "python",
   "name": "python3"
  },
  "language_info": {
   "codemirror_mode": {
    "name": "ipython",
    "version": 3
   },
   "file_extension": ".py",
   "mimetype": "text/x-python",
   "name": "python",
   "nbconvert_exporter": "python",
   "pygments_lexer": "ipython3",
   "version": "3.9.7"
  }
 },
 "nbformat": 4,
 "nbformat_minor": 5
}
